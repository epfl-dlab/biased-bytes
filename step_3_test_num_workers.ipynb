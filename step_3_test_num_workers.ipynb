{
 "cells": [
  {
   "cell_type": "code",
   "execution_count": 9,
   "metadata": {},
   "outputs": [],
   "source": [
    "import pandas as pd\n",
    "import matplotlib.pyplot as plt\n",
    "import numpy as np"
   ]
  },
  {
   "cell_type": "code",
   "execution_count": 10,
   "metadata": {},
   "outputs": [],
   "source": [
    "cnt = 0\n",
    "for i in  ['Batch_4555956_batch_results.csv',\n",
    "'Batch_4556853_batch_results.csv',\n",
    "'Batch_4556855_batch_results.csv',\n",
    "'Batch_4556856_batch_results.csv',\n",
    "'Batch_4556858_batch_results.csv',\n",
    "'Batch_4556860_batch_results.csv',\n",
    "'Batch_4556861_batch_results.csv',\n",
    "'Batch_4557421_batch_results.csv',\n",
    "'Batch_4557423_batch_results.csv',\n",
    "'Batch_4557425_batch_results.csv',\n",
    "'Batch_4557427_batch_results.csv',\n",
    "'Batch_4557430_batch_results.csv',\n",
    "'Batch_4557431_batch_results.csv',\n",
    "'Batch_4557432_batch_results.csv',\n",
    "'Batch_4557433_batch_results.csv',\n",
    "'Batch_4557835_batch_results.csv',\n",
    "'Batch_4557836_batch_results.csv',\n",
    "'Batch_4557837_batch_results.csv',\n",
    "'Batch_4557838_batch_results.csv',\n",
    "'Batch_4557839_batch_results.csv',\n",
    "'Batch_4557840_batch_results.csv',\n",
    "'Batch_4557841_batch_results.csv',\n",
    "'Batch_4557842_batch_results.csv',\n",
    "'Batch_4557843_batch_results.csv']:\n",
    "    if cnt ==0:\n",
    "        df = pd.read_csv('data/crowdsourced_annotation_output/'+i)\n",
    "    else:\n",
    "        df = pd.concat((df,pd.read_csv('data/crowdsourced_annotation_output/'+i)))\n",
    "    cnt+=1"
   ]
  },
  {
   "cell_type": "code",
   "execution_count": 11,
   "metadata": {},
   "outputs": [
    {
     "data": {
      "text/plain": [
       "12000"
      ]
     },
     "execution_count": 11,
     "metadata": {},
     "output_type": "execute_result"
    }
   ],
   "source": [
    "len(df)"
   ]
  },
  {
   "cell_type": "code",
   "execution_count": 12,
   "metadata": {},
   "outputs": [],
   "source": [
    "#did at least 50 comparisons in total\n",
    "top_workers = df['WorkerId'].value_counts()[:74].index"
   ]
  },
  {
   "cell_type": "code",
   "execution_count": 13,
   "metadata": {},
   "outputs": [],
   "source": [
    "#check what fraction is done by the most active worker\n",
    "#for c,gr in df.groupby('Input.category'):\n",
    "    #print(c)\n",
    "    #print(round(gr['WorkerId'].value_counts()[0] / 500*100,2),'%')\n"
   ]
  },
  {
   "cell_type": "code",
   "execution_count": 14,
   "metadata": {},
   "outputs": [
    {
     "name": "stdout",
     "output_type": "stream",
     "text": [
      "['good' 'tasty' 'wonderful']\n",
      "['good' 'tasty' 'wonderful' 'yummy']\n",
      "['good' 'tasty' 'very good' 'very taste' 'very tasty']\n",
      "['amazing' 'energy' 'enerty' 'flavourable' 'good' 'halthy' 'healthu'\n",
      " 'healthy' 'healthy food' 'helathy' 'mouth-atering' 'mouth-water'\n",
      " 'mouth-watering' 'tasly food' 'tasty' 'tasty food' 'wonderful'\n",
      " 'wonderful combinatio' 'wonerful' 'wouderful']\n",
      "['amazing' 'caloric' 'colourful' 'delicious' 'flavorful' 'healthy'\n",
      " 'likable' 'mouth-watering' 'tasteless' 'tasty' 'unhealthy' 'yummy']\n",
      "['delicious' 'saweet' 'seet' 'sweet' 'sweetdelicious' 'tast' 'tasty']\n"
     ]
    }
   ],
   "source": [
    "unique_words = []\n",
    "workers_bad_quality = []\n",
    "\n",
    "for w in top_workers:\n",
    "    tags = []\n",
    "    for i in df.loc[df['WorkerId'] == w][['Answer.tag1_1', 'Answer.tag1_2',\n",
    "       'Answer.tag1_3', 'Answer.tag2_1', 'Answer.tag2_2', 'Answer.tag2_3']].values:\n",
    "        [tags.append(t.lower()) for t in i if type(t)==str]\n",
    "    \n",
    "    unique_words.append(len(np.unique(tags))) \n",
    "    if len(np.unique(tags))<=20:\n",
    "        workers_bad_quality.append(w)\n",
    "        print(np.unique(tags))\n"
   ]
  },
  {
   "cell_type": "code",
   "execution_count": 15,
   "metadata": {},
   "outputs": [
    {
     "data": {
      "text/plain": [
       "['A3HCWJBU0TWIY3',\n",
       " 'A1TO20GNODKZ3P',\n",
       " 'A29JRODY022FFB',\n",
       " 'A2UYA88EI0VGYE',\n",
       " 'A336462OADDLRY',\n",
       " 'A39ZEMJXM4MQUP']"
      ]
     },
     "execution_count": 15,
     "metadata": {},
     "output_type": "execute_result"
    }
   ],
   "source": [
    "workers_bad_quality"
   ]
  },
  {
   "cell_type": "code",
   "execution_count": 16,
   "metadata": {},
   "outputs": [
    {
     "data": {
      "text/plain": [
       "595"
      ]
     },
     "execution_count": 16,
     "metadata": {},
     "output_type": "execute_result"
    }
   ],
   "source": [
    "len(df['WorkerId'].unique())"
   ]
  },
  {
   "cell_type": "code",
   "execution_count": 27,
   "metadata": {},
   "outputs": [
    {
     "data": {
      "text/plain": [
       "20.168067226890756"
      ]
     },
     "execution_count": 27,
     "metadata": {},
     "output_type": "execute_result"
    }
   ],
   "source": [
    "df.groupby('WorkerId')['HITId'].agg('count').values.mean()"
   ]
  },
  {
   "cell_type": "code",
   "execution_count": 28,
   "metadata": {},
   "outputs": [
    {
     "data": {
      "text/plain": [
       "3.0"
      ]
     },
     "execution_count": 28,
     "metadata": {},
     "output_type": "execute_result"
    }
   ],
   "source": [
    "np.median(df.groupby('WorkerId')['HITId'].agg('count').values)"
   ]
  },
  {
   "cell_type": "code",
   "execution_count": null,
   "metadata": {},
   "outputs": [],
   "source": []
  }
 ],
 "metadata": {
  "kernelspec": {
   "display_name": "Python 3",
   "language": "python",
   "name": "python3"
  },
  "language_info": {
   "codemirror_mode": {
    "name": "ipython",
    "version": 3
   },
   "file_extension": ".py",
   "mimetype": "text/x-python",
   "name": "python",
   "nbconvert_exporter": "python",
   "pygments_lexer": "ipython3",
   "version": "3.7.7"
  }
 },
 "nbformat": 4,
 "nbformat_minor": 4
}
